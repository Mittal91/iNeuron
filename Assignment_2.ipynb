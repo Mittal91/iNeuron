{
 "cells": [
  {
   "cell_type": "markdown",
   "id": "ac747f16",
   "metadata": {},
   "source": [
    "# Assignment_2"
   ]
  },
  {
   "cell_type": "markdown",
   "id": "cee99853",
   "metadata": {},
   "source": [
    "Solved by Mittal Shah"
   ]
  },
  {
   "cell_type": "markdown",
   "id": "5dfae4e0",
   "metadata": {},
   "source": [
    "1. What are the two values of the Boolean data type? How do you write them?"
   ]
  },
  {
   "cell_type": "markdown",
   "id": "495c30cf",
   "metadata": {},
   "source": [
    "Ans:\n",
    "    The two values of the Boolean data type are: True and False.\n",
    "        \n",
    "    * It must be written as True and False as python is case sensitive.\n",
    "    "
   ]
  },
  {
   "cell_type": "code",
   "execution_count": 1,
   "id": "52e8c6eb",
   "metadata": {},
   "outputs": [
    {
     "name": "stdout",
     "output_type": "stream",
     "text": [
      "True <class 'bool'>\n",
      "False <class 'bool'>\n"
     ]
    }
   ],
   "source": [
    "# Example\n",
    "\n",
    "x = True\n",
    "y = False\n",
    "\n",
    "print(x, type(x))\n",
    "print(y, type(y))"
   ]
  },
  {
   "cell_type": "markdown",
   "id": "6e2ccdfd",
   "metadata": {},
   "source": [
    "2. What are the three different types of Boolean operators?"
   ]
  },
  {
   "cell_type": "markdown",
   "id": "8d4f41c5",
   "metadata": {},
   "source": [
    "Ans:\n",
    "\n",
    "    The three different types of Boolean operators are: AND , OR & NOT"
   ]
  },
  {
   "cell_type": "code",
   "execution_count": 3,
   "id": "93d8a2ea",
   "metadata": {},
   "outputs": [
    {
     "name": "stdout",
     "output_type": "stream",
     "text": [
      "True\n",
      "False\n",
      "True\n"
     ]
    }
   ],
   "source": [
    "# Example\n",
    "\n",
    "x = 15\n",
    "y = 20\n",
    "\n",
    "print(x>11 or y<16) # boolean operator OR\n",
    "print(x>11 and y<16) # boolean operator AND\n",
    "print(not(x>15)) # boolean operator NOT"
   ]
  },
  {
   "cell_type": "markdown",
   "id": "2ddc5043",
   "metadata": {},
   "source": [
    "3. Make a list of each Boolean operator's truth tables (i.e. every possible combination of Boolean values for the operator and what it evaluate )."
   ]
  },
  {
   "cell_type": "raw",
   "id": "cd89941b",
   "metadata": {},
   "source": [
    "a. OR Truth Table\n",
    "\n",
    " X\t      Y\t   X or Y\n",
    " \n",
    "True\tFalse\tTrue\n",
    "False\tTrue\tTrue\n",
    "True\tTrue\tTrue\n",
    "False\tFalse\tFalse\n"
   ]
  },
  {
   "cell_type": "raw",
   "id": "ebba7f65",
   "metadata": {},
   "source": [
    "b. AND Truth Table\n",
    "\n",
    "  X\t     Y\t   X and Y\n",
    "  \n",
    "True\tTrue\tTrue\n",
    "False\tTrue\tFalse\n",
    "True\tFalse\tFalse\n",
    "False\tFalse\tFalse\n"
   ]
  },
  {
   "cell_type": "raw",
   "id": "318c002a",
   "metadata": {},
   "source": [
    "c. NOT Truth Table\n",
    "\n",
    "  X  \tnot X\n",
    "  \n",
    "True\tFalse\n",
    "False\tTrue\n"
   ]
  },
  {
   "cell_type": "raw",
   "id": "3012f686",
   "metadata": {},
   "source": [
    "4. What are the values of the following expressions?\n",
    "\n",
    "(5 > 4) and (3 == 5)\n",
    "not (5 > 4)\n",
    "(5 > 4) or (3 == 5)\n",
    "not ((5 > 4) or (3 == 5))\n",
    "(True and True) and (True == False)\n",
    "(not False) or (not True)\n"
   ]
  },
  {
   "cell_type": "raw",
   "id": "656647d0",
   "metadata": {},
   "source": [
    "Ans:\n",
    "    \n",
    "(5 > 4) and (3 == 5) ->  False\n",
    "\n",
    "not (5 > 4) -> False\n",
    "\n",
    "(5 > 4) or (3 == 5) -> True\n",
    "\n",
    "not ((5 > 4) or (3 == 5)) -> False\n",
    "\n",
    "(True and True) and (True == False) -> False\n",
    "\n",
    "(not False) or (not True) -> True\n",
    "  "
   ]
  },
  {
   "cell_type": "code",
   "execution_count": 4,
   "id": "d405f7c5",
   "metadata": {
    "scrolled": true
   },
   "outputs": [
    {
     "name": "stdout",
     "output_type": "stream",
     "text": [
      "False\n",
      "False\n",
      "True\n",
      "False\n",
      "False\n",
      "True\n"
     ]
    }
   ],
   "source": [
    "print((5 > 4) and (3 == 5))\n",
    "print(not (5 > 4))\n",
    "print((5 > 4) or (3 == 5))\n",
    "print(not ((5 > 4) or (3 == 5)))\n",
    "print((True and True) and (True == False))\n",
    "print((not False) or (not True))"
   ]
  },
  {
   "cell_type": "markdown",
   "id": "14fe53fa",
   "metadata": {},
   "source": [
    "5. What are the six comparison operators?"
   ]
  },
  {
   "cell_type": "raw",
   "id": "20cbe8e1",
   "metadata": {},
   "source": [
    "Ans:\n",
    "    \n",
    "    The six comparision operators are as below:\n",
    "        \n",
    "Operator\tName\n",
    "  ==\t  Equal\n",
    "  !=\t  Not equal\n",
    "  >\t      Greater than\n",
    "  <\t      Less than\n",
    "  >=\t  Greater than or equal to\n",
    "  <=\t  Less than or equal to\n"
   ]
  },
  {
   "cell_type": "markdown",
   "id": "1dd79089",
   "metadata": {},
   "source": [
    "6. How do you tell the difference between the equal to and assignment operators? Describe a condition and when you would use one."
   ]
  },
  {
   "cell_type": "raw",
   "id": "8e4d4476",
   "metadata": {},
   "source": [
    "Ans:\n",
    "    1. Equal to operator == : It can be used when we need to compare to values and then evaluates to the boolean.\n",
    "        \n",
    "    2. Assignment operator = : It can be used to assign a value (Store a value in) to the variable.\n",
    "    \n",
    "    "
   ]
  },
  {
   "cell_type": "code",
   "execution_count": 8,
   "id": "e04dbeb1",
   "metadata": {},
   "outputs": [
    {
     "name": "stdout",
     "output_type": "stream",
     "text": [
      "Save more money\n"
     ]
    }
   ],
   "source": [
    "# Example\n",
    "\n",
    "price = 100 # Here we are using Assignment operator to assign value 100 to the variable price\n",
    "\n",
    "if price == 50 : # Here we are using equal to operator \n",
    "    print(\"I can buy this frame\")\n",
    "else :\n",
    "    print(\"Save more money\")"
   ]
  },
  {
   "cell_type": "raw",
   "id": "a3db5c67",
   "metadata": {},
   "source": [
    "7. Identify the three blocks in this code:\n",
    "spam = 0\n",
    "if spam == 10:\n",
    "print('eggs')\n",
    "if spam > 5:\n",
    "print('bacon')\n",
    "else:\n",
    "print('ham')\n",
    "print('spam')\n",
    "print('spam')\n"
   ]
  },
  {
   "cell_type": "raw",
   "id": "7101fa2c",
   "metadata": {},
   "source": [
    "Ans :\n",
    " \n",
    "Block 1 :\n",
    "spam = 0\n",
    "if spam == 10:\n",
    "print('eggs')\n",
    "\n",
    "Block 2 :\n",
    "if spam > 5:\n",
    "print('bacon')\n",
    "\n",
    "Block 3 :\n",
    "else:\n",
    "print('ham')\n",
    "print('spam')\n",
    "print('spam')"
   ]
  },
  {
   "cell_type": "raw",
   "id": "927d246e",
   "metadata": {},
   "source": [
    "8. Write code that prints Hello if 1 is stored in spam, prints Howdy if 2 is stored in spam, and prints Greetings! if anything else is stored in spam."
   ]
  },
  {
   "cell_type": "code",
   "execution_count": 9,
   "id": "b38477ab",
   "metadata": {},
   "outputs": [
    {
     "name": "stdout",
     "output_type": "stream",
     "text": [
      "Greetings!\n"
     ]
    }
   ],
   "source": [
    "spam = 10\n",
    "if spam == 1 :\n",
    "    print(\"Hello\")\n",
    "elif spam == 2:\n",
    "    print(\"Howdy\")\n",
    "else :\n",
    "    print(\"Greetings!\")"
   ]
  },
  {
   "cell_type": "code",
   "execution_count": 11,
   "id": "e1957e04",
   "metadata": {},
   "outputs": [],
   "source": [
    "def answer(spam):\n",
    "    if spam == 1 :\n",
    "        print(\"Hello\")\n",
    "    elif spam == 2:\n",
    "        print(\"Howdy\")\n",
    "    else :\n",
    "        print(\"Greetings!\")\n",
    "    "
   ]
  },
  {
   "cell_type": "code",
   "execution_count": 12,
   "id": "38ce70fc",
   "metadata": {},
   "outputs": [
    {
     "name": "stdout",
     "output_type": "stream",
     "text": [
      "Hello\n",
      "Howdy\n",
      "Greetings!\n"
     ]
    }
   ],
   "source": [
    "answer(1)\n",
    "answer(2)\n",
    "answer(10)"
   ]
  },
  {
   "cell_type": "markdown",
   "id": "7e0501df",
   "metadata": {},
   "source": [
    "9. If your programme is stuck in an endless loop, what keys you’ll press?"
   ]
  },
  {
   "cell_type": "raw",
   "id": "92e1e6b8",
   "metadata": {},
   "source": [
    "Ans :\n",
    "    Ctrl + C"
   ]
  },
  {
   "cell_type": "markdown",
   "id": "ff226e56",
   "metadata": {},
   "source": [
    "10. How can you tell the difference between break and continue?\n"
   ]
  },
  {
   "cell_type": "raw",
   "id": "29690957",
   "metadata": {},
   "source": [
    "Ans :\n",
    "    break : it terminates the loop if given condition is satisfied and moves to the next block of the code.\n",
    "        \n",
    "    continue : it skips the particular iteration if given condition is satisfied and moves to the next iteration.\n",
    "        "
   ]
  },
  {
   "cell_type": "code",
   "execution_count": 16,
   "id": "60860bd6",
   "metadata": {},
   "outputs": [
    {
     "name": "stdout",
     "output_type": "stream",
     "text": [
      "m\n",
      "o\n",
      "n\n",
      "a\n",
      "r\n"
     ]
    }
   ],
   "source": [
    "# Example of break\n",
    "\n",
    "x = \"monarch\"\n",
    "for i in x :\n",
    "    print(i)\n",
    "    if i == \"r\" :\n",
    "        break\n",
    "    "
   ]
  },
  {
   "cell_type": "code",
   "execution_count": 21,
   "id": "db64da86",
   "metadata": {},
   "outputs": [
    {
     "name": "stdout",
     "output_type": "stream",
     "text": [
      "m\n",
      "o\n",
      "n\n",
      "a\n",
      "c\n",
      "h\n"
     ]
    }
   ],
   "source": [
    "# Example of continue\n",
    "\n",
    "x = \"monarch\"\n",
    "for i in x :\n",
    "    if i == \"r\" :\n",
    "        continue\n",
    "    print(i)\n",
    "    "
   ]
  },
  {
   "cell_type": "markdown",
   "id": "6ce54e1f",
   "metadata": {},
   "source": [
    "11. In a for loop, what is the difference between range(10), range(0, 10), and range(0, 10, 1)?"
   ]
  },
  {
   "cell_type": "raw",
   "id": "5a655767",
   "metadata": {},
   "source": [
    "Ans :\n",
    "    \n",
    "1. range(10): Here 10 is the end value, default start value is 0 and default no of steps is 1.\n",
    "    \n",
    "2. range(0, 10) : Here 0 is the start value, 10 is end value and default stepsize is 1.\n",
    "    \n",
    "3. range(0, 10, 1): Here 0 is the start value, 10 is end value and 1 is step size.\n",
    "    \n",
    "we will get same output for all three code."
   ]
  },
  {
   "cell_type": "code",
   "execution_count": 26,
   "id": "00f72428",
   "metadata": {},
   "outputs": [
    {
     "name": "stdout",
     "output_type": "stream",
     "text": [
      "0 1 2 3 4 5 6 7 8 9 \n"
     ]
    }
   ],
   "source": [
    "\n",
    "for i in range(10):\n",
    "    print(i, end = \" \")\n",
    "print()"
   ]
  },
  {
   "cell_type": "code",
   "execution_count": 27,
   "id": "764db37e",
   "metadata": {},
   "outputs": [
    {
     "name": "stdout",
     "output_type": "stream",
     "text": [
      "0 1 2 3 4 5 6 7 8 9 \n"
     ]
    }
   ],
   "source": [
    "for i in range(0, 10):\n",
    "    print(i, end = \" \")\n",
    "print()"
   ]
  },
  {
   "cell_type": "code",
   "execution_count": 28,
   "id": "431c822f",
   "metadata": {},
   "outputs": [
    {
     "name": "stdout",
     "output_type": "stream",
     "text": [
      "0 1 2 3 4 5 6 7 8 9 \n"
     ]
    }
   ],
   "source": [
    "for i in range(0, 10, 1):\n",
    "    print(i, end = \" \")\n",
    "print()"
   ]
  },
  {
   "cell_type": "markdown",
   "id": "e86c1435",
   "metadata": {},
   "source": [
    "12. Write a short program that prints the numbers 1 to 10 using a for loop. Then write an equivalent program that prints the numbers 1 to 10 using a while loop."
   ]
  },
  {
   "cell_type": "code",
   "execution_count": 13,
   "id": "bd6c92c2",
   "metadata": {},
   "outputs": [
    {
     "name": "stdout",
     "output_type": "stream",
     "text": [
      "1\n",
      "2\n",
      "3\n",
      "4\n",
      "5\n",
      "6\n",
      "7\n",
      "8\n",
      "9\n",
      "10\n"
     ]
    }
   ],
   "source": [
    "# Program using For Loop\n",
    "\n",
    "for i in range(1, 11) :\n",
    "    print(i)"
   ]
  },
  {
   "cell_type": "code",
   "execution_count": 14,
   "id": "2e0e98e9",
   "metadata": {},
   "outputs": [
    {
     "name": "stdout",
     "output_type": "stream",
     "text": [
      "1\n",
      "2\n",
      "3\n",
      "4\n",
      "5\n",
      "6\n",
      "7\n",
      "8\n",
      "9\n",
      "10\n"
     ]
    }
   ],
   "source": [
    "# Program using While Loop\n",
    "\n",
    "i = 1\n",
    "while i < 11 :\n",
    "    print(i)\n",
    "    i = i + 1"
   ]
  },
  {
   "cell_type": "markdown",
   "id": "0fea95a5",
   "metadata": {},
   "source": [
    "13. If you had a function named bacon() inside a module named spam, how would you call it after importing spam?"
   ]
  },
  {
   "cell_type": "raw",
   "id": "0e911710",
   "metadata": {},
   "source": [
    "Ans :\n",
    "    spam.bacon()"
   ]
  }
 ],
 "metadata": {
  "kernelspec": {
   "display_name": "Python 3 (ipykernel)",
   "language": "python",
   "name": "python3"
  },
  "language_info": {
   "codemirror_mode": {
    "name": "ipython",
    "version": 3
   },
   "file_extension": ".py",
   "mimetype": "text/x-python",
   "name": "python",
   "nbconvert_exporter": "python",
   "pygments_lexer": "ipython3",
   "version": "3.9.12"
  }
 },
 "nbformat": 4,
 "nbformat_minor": 5
}
