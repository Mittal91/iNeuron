{
 "cells": [
  {
   "cell_type": "markdown",
   "id": "6d36f4f8",
   "metadata": {},
   "source": [
    "# Assignment_1 "
   ]
  },
  {
   "cell_type": "markdown",
   "id": "ce6b5b9a",
   "metadata": {},
   "source": [
    "Solved by Mittal Shah"
   ]
  },
  {
   "cell_type": "markdown",
   "id": "828a1c4b",
   "metadata": {},
   "source": [
    "1. In the below elements which of them are values or an expression? eg:- values can be integer or string and expressions will be mathematical operators.  * , 'hello', -87.8, -,  /,  +, \t6 "
   ]
  },
  {
   "cell_type": "markdown",
   "id": "5761fa99",
   "metadata": {},
   "source": [
    "Ans : There are three values and 4 expressions.\n",
    "Values :     'hello', -87.8, 6\n",
    "Expressions: *, -, /, +"
   ]
  },
  {
   "cell_type": "markdown",
   "id": "71d6d207",
   "metadata": {},
   "source": [
    "2. What is the difference between string and variable?"
   ]
  },
  {
   "cell_type": "markdown",
   "id": "d44431c5",
   "metadata": {},
   "source": [
    "Ans : \n",
    "- String is a group of characters, space and numbers too which is generally enclosed by double quotes:\" \" or single quotes:' '. In some cases even triple quotes can be used.\n",
    "\n",
    "Where as variable is symbolic name which can be used to store the information.\n",
    "\n",
    "Example: a = \"Mittal28\"\n",
    "         c = \"My name is Mittal Shah\"\n",
    "        \n",
    "Here a and c are Variables where \"Mittal28\" and \"My name is Mittal Shah\" is string."
   ]
  },
  {
   "cell_type": "markdown",
   "id": "4b61bb7d",
   "metadata": {},
   "source": [
    "3. Describe three different data types."
   ]
  },
  {
   "cell_type": "markdown",
   "id": "b436ca12",
   "metadata": {},
   "source": [
    "Ans :\n",
    "    Three Different Data Types are:\n",
    "        1. Text Type (str) :\n",
    "            It contains string. in which we can store group of characters enclosed by double quotes or single quotes. \n",
    "        2. Numeric Type (int, float, complex)\n",
    "            It contains integer, float and complex numbers. integer(int) can be used to represent whole numbers (integer numbers), float can be used to represent rational numbers (floating numbers) and compplex can be used to represent complex numbers.\n",
    "        3. Boolean Type (bool)\n",
    "            It can be used to represent the data which is a form of data with only two possible values: True(1) and False(0)."
   ]
  },
  {
   "cell_type": "code",
   "execution_count": 5,
   "id": "a1248d47",
   "metadata": {},
   "outputs": [
    {
     "name": "stdout",
     "output_type": "stream",
     "text": [
      "Mittal28 <class 'str'>\n",
      "12 <class 'int'>\n",
      "11.5 <class 'float'>\n",
      "(5+2j) <class 'complex'>\n",
      "False <class 'bool'>\n"
     ]
    }
   ],
   "source": [
    "# Examples\n",
    "\n",
    "# Text Type:\n",
    "a = 'Mittal28'\n",
    "print(a, type(a))\n",
    "\n",
    "# Numeric Type\n",
    "b = 12\n",
    "print(b,type(b))\n",
    "c = 11.5\n",
    "print(c, type(c))\n",
    "d = 5 + 2j\n",
    "print(d, type(d))\n",
    "\n",
    "# Boolean Type\n",
    "e = bool(15<2)\n",
    "print(e, type(e))"
   ]
  },
  {
   "cell_type": "markdown",
   "id": "8bdc9700",
   "metadata": {},
   "source": [
    "4. What is an expression made up of? What do all expressions do?"
   ]
  },
  {
   "cell_type": "markdown",
   "id": "10ac9044",
   "metadata": {},
   "source": [
    "Ans: \n",
    "    Expression is made up of variables, constants and operators which is representing a value. An Expression always evaluates and gives value."
   ]
  },
  {
   "cell_type": "code",
   "execution_count": 18,
   "id": "3ab18775",
   "metadata": {},
   "outputs": [
    {
     "name": "stdout",
     "output_type": "stream",
     "text": [
      "c =  58.6\n"
     ]
    }
   ],
   "source": [
    "# Example\n",
    "a = 10\n",
    "b = 50.6\n",
    "c = a + b - 2 # This is an expression. Here a, b are variables which contains some values, +, - are operators and 2 is constant\n",
    "print('c = ', c)\n"
   ]
  },
  {
   "cell_type": "markdown",
   "id": "03fa4f71",
   "metadata": {},
   "source": [
    "5. This assignment statements, like spam = 10. What is the difference between an expression and a statement?"
   ]
  },
  {
   "cell_type": "markdown",
   "id": "01af175d",
   "metadata": {},
   "source": [
    "Ans :\n",
    "    Any line of code or instruction that interpreter executes is called statement which has a effect like creating a variable or displaying a value.\n",
    "    Expressions always evaluate to a value, where as statements don't.\n",
    "    Expressions are often part of a statement."
   ]
  },
  {
   "cell_type": "code",
   "execution_count": 19,
   "id": "546c1f2b",
   "metadata": {},
   "outputs": [
    {
     "name": "stdout",
     "output_type": "stream",
     "text": [
      "c =  10.280000000000001\n"
     ]
    }
   ],
   "source": [
    "# Example\n",
    "\n",
    "a = 10 # Statement\n",
    "b = 5.28 # Statement\n",
    "c = a + b - 5 # This is a statement in which a + b - 5 is an expression.\n",
    "print('c = ', c) # Statement"
   ]
  },
  {
   "cell_type": "markdown",
   "id": "95123984",
   "metadata": {},
   "source": [
    "6. After running the following code, what does the variable bacon contain?\n",
    "bacon = 22\n",
    "bacon + 1"
   ]
  },
  {
   "cell_type": "markdown",
   "id": "0cfcc413",
   "metadata": {},
   "source": [
    "Ans :\n",
    "    The variable bacon will contain 22. Here after performing bacon + 1 new value is not assigned to the variable bacon. So value of bacon will remain same"
   ]
  },
  {
   "cell_type": "code",
   "execution_count": 6,
   "id": "e82f115c",
   "metadata": {},
   "outputs": [
    {
     "name": "stdout",
     "output_type": "stream",
     "text": [
      "22\n"
     ]
    }
   ],
   "source": [
    "bacon = 22\n",
    "bacon + 1\n",
    "print(bacon)"
   ]
  },
  {
   "cell_type": "markdown",
   "id": "ba758b89",
   "metadata": {},
   "source": [
    "7. What should the values of the following two terms be?\n",
    "'spam' + 'spamspam'\n",
    "'spam' * 3"
   ]
  },
  {
   "cell_type": "markdown",
   "id": "505092e3",
   "metadata": {},
   "source": [
    "Ans:\n",
    "    'spam' + 'spamspam' : We will get 'spamspamspam' here.(String Concatenation) \n",
    "    'spam' * 3 : We will get 'spamspamspam' here. (String Multiplication)"
   ]
  },
  {
   "cell_type": "code",
   "execution_count": 8,
   "id": "972e3682",
   "metadata": {},
   "outputs": [
    {
     "data": {
      "text/plain": [
       "'spamspamspam'"
      ]
     },
     "execution_count": 8,
     "metadata": {},
     "output_type": "execute_result"
    }
   ],
   "source": [
    "'spam' + 'spamspam' #String Concatenation"
   ]
  },
  {
   "cell_type": "code",
   "execution_count": 9,
   "id": "1c9d7d92",
   "metadata": {},
   "outputs": [
    {
     "data": {
      "text/plain": [
       "'spamspamspam'"
      ]
     },
     "execution_count": 9,
     "metadata": {},
     "output_type": "execute_result"
    }
   ],
   "source": [
    "'spam' * 3 #String Multiplication"
   ]
  },
  {
   "cell_type": "markdown",
   "id": "48d1f834",
   "metadata": {},
   "source": [
    "8. Why is eggs a valid variable name while 100 is invalid?"
   ]
  },
  {
   "cell_type": "markdown",
   "id": "264949f6",
   "metadata": {},
   "source": [
    "Ans:\n",
    "    There are few python rules for the naming of a varible. Few of them are:\n",
    "        1. Name of the variable must start with the letter or underscore.\n",
    "        2. Name of the variable can not start with number.\n",
    "        3. Name of the ariable can be alpha numeric.\n",
    "        4. Name of variables are case sensitive. i.e. MITTI, mitti, Mitti these all are different variable names.\n",
    "    According to these rules, eggs is valid variable name. As 100 is a number it is invalid variable name.\n",
    "    "
   ]
  },
  {
   "cell_type": "code",
   "execution_count": 10,
   "id": "e19c82eb",
   "metadata": {},
   "outputs": [
    {
     "name": "stdout",
     "output_type": "stream",
     "text": [
      "Mittal\n"
     ]
    }
   ],
   "source": [
    "eggs = 'Mittal'\n",
    "print(eggs)"
   ]
  },
  {
   "cell_type": "code",
   "execution_count": 11,
   "id": "1858dfe2",
   "metadata": {},
   "outputs": [
    {
     "ename": "SyntaxError",
     "evalue": "cannot assign to literal (2849767127.py, line 1)",
     "output_type": "error",
     "traceback": [
      "\u001b[1;36m  Input \u001b[1;32mIn [11]\u001b[1;36m\u001b[0m\n\u001b[1;33m    100 = 'Mittal'\u001b[0m\n\u001b[1;37m    ^\u001b[0m\n\u001b[1;31mSyntaxError\u001b[0m\u001b[1;31m:\u001b[0m cannot assign to literal\n"
     ]
    }
   ],
   "source": [
    "100 = 'Mittal'\n",
    "print(100)"
   ]
  },
  {
   "cell_type": "markdown",
   "id": "b71ddbbc",
   "metadata": {},
   "source": [
    "9. What three functions can be used to get the integer, floating-point number, or string version of a value?"
   ]
  },
  {
   "cell_type": "markdown",
   "id": "dfa283b8",
   "metadata": {},
   "source": [
    "Ans:\n",
    "    To get the integer, floating point number or string version of the value, we can use int(), float() and str() respectively.\n",
    "    "
   ]
  },
  {
   "cell_type": "code",
   "execution_count": 13,
   "id": "db3c25c1",
   "metadata": {},
   "outputs": [
    {
     "name": "stdout",
     "output_type": "stream",
     "text": [
      "int(12.2) :  12\n"
     ]
    }
   ],
   "source": [
    "print('int(12.2) : ', int(12.2)) # For the conversion into integer"
   ]
  },
  {
   "cell_type": "code",
   "execution_count": 15,
   "id": "35dc19ad",
   "metadata": {},
   "outputs": [
    {
     "name": "stdout",
     "output_type": "stream",
     "text": [
      "float(25) :  25.0\n"
     ]
    }
   ],
   "source": [
    "print('float(25) : ', float(25)) # For the conversion into floating point number"
   ]
  },
  {
   "cell_type": "code",
   "execution_count": 16,
   "id": "03e98cc4",
   "metadata": {},
   "outputs": [
    {
     "name": "stdout",
     "output_type": "stream",
     "text": [
      "str(667) :  667\n"
     ]
    }
   ],
   "source": [
    "print('str(667) : ', str(667)) # For the conversion into str"
   ]
  },
  {
   "cell_type": "markdown",
   "id": "2a31529c",
   "metadata": {},
   "source": [
    "10. Why does this expression cause an error? How can you fix it?\n",
    "'I have eaten ' + 99 + ' burritos.'"
   ]
  },
  {
   "cell_type": "markdown",
   "id": "1fe7fb09",
   "metadata": {},
   "source": [
    "Ans:\n",
    "    In the given expression, 'I have eaten ' and ' burritos.' are strings where as 99 is an integer. Here we are doing concatenation operation of the two different data types which is not posiible so we are getting error.\n",
    "    To fix this error we need to typecast 99 to string, We will be able to execute this function without any error."
   ]
  },
  {
   "cell_type": "code",
   "execution_count": 17,
   "id": "5de05ba7",
   "metadata": {},
   "outputs": [
    {
     "data": {
      "text/plain": [
       "'I have eaten 99 burritos.'"
      ]
     },
     "execution_count": 17,
     "metadata": {},
     "output_type": "execute_result"
    }
   ],
   "source": [
    "'I have eaten ' + str(99) + ' burritos.'"
   ]
  },
  {
   "cell_type": "code",
   "execution_count": null,
   "id": "32c9661a",
   "metadata": {},
   "outputs": [],
   "source": []
  }
 ],
 "metadata": {
  "kernelspec": {
   "display_name": "Python 3 (ipykernel)",
   "language": "python",
   "name": "python3"
  },
  "language_info": {
   "codemirror_mode": {
    "name": "ipython",
    "version": 3
   },
   "file_extension": ".py",
   "mimetype": "text/x-python",
   "name": "python",
   "nbconvert_exporter": "python",
   "pygments_lexer": "ipython3",
   "version": "3.9.12"
  }
 },
 "nbformat": 4,
 "nbformat_minor": 5
}
