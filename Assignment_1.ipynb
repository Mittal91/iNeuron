{
 "cells": [
  {
   "cell_type": "markdown",
   "id": "b91654ee",
   "metadata": {},
   "source": [
    "# Assignment_1 "
   ]
  },
  {
   "cell_type": "markdown",
   "id": "a37d9801",
   "metadata": {},
   "source": [
    "Solved by Mittal Shah"
   ]
  },
  {
   "cell_type": "markdown",
   "id": "91c3ab04",
   "metadata": {},
   "source": [
    "1. In the below elements which of them are values or an expression? eg:- values can be integer or string and expressions will be mathematical operators.  * , 'hello', -87.8, -,  /,  +, \t6 "
   ]
  },
  {
   "cell_type": "markdown",
   "id": "b50e5fad",
   "metadata": {},
   "source": [
    "Ans : There are three values and 4 expressions.\n",
    "Values :     'hello', -87.8, 6\n",
    "Expressions: *, -, /, +"
   ]
  },
  {
   "cell_type": "markdown",
   "id": "c75dff20",
   "metadata": {},
   "source": [
    "2. What is the difference between string and variable?"
   ]
  },
  {
   "cell_type": "markdown",
   "id": "a60d63e2",
   "metadata": {},
   "source": [
    "Ans : \n",
    "- String is a group of characters, space and numbers too which is generally enclosed by double quotes:\" \" or single quotes:' '. In some cases even triple quotes can be used.\n",
    "\n",
    "Where as variable is symbolic name which can be used to store the information.\n",
    "\n",
    "Example: a = \"Mittal28\"\n",
    "         c = \"My name is Mittal Shah\"\n",
    "        \n",
    "Here a and c are Variables where \"Mittal28\" and \"My name is Mittal Shah\" is string."
   ]
  },
  {
   "cell_type": "markdown",
   "id": "71aa79b9",
   "metadata": {},
   "source": [
    "3. Describe three different data types."
   ]
  },
  {
   "cell_type": "code",
   "execution_count": null,
   "id": "c9accf00",
   "metadata": {},
   "outputs": [],
   "source": []
  }
 ],
 "metadata": {
  "kernelspec": {
   "display_name": "Python 3 (ipykernel)",
   "language": "python",
   "name": "python3"
  },
  "language_info": {
   "codemirror_mode": {
    "name": "ipython",
    "version": 3
   },
   "file_extension": ".py",
   "mimetype": "text/x-python",
   "name": "python",
   "nbconvert_exporter": "python",
   "pygments_lexer": "ipython3",
   "version": "3.9.12"
  }
 },
 "nbformat": 4,
 "nbformat_minor": 5
}
