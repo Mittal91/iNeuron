{
 "cells": [
  {
   "cell_type": "markdown",
   "id": "d6f64fb4",
   "metadata": {},
   "source": [
    "# Assignment_3"
   ]
  },
  {
   "cell_type": "markdown",
   "id": "8368015d",
   "metadata": {},
   "source": [
    "Solved by Mittal Shah"
   ]
  },
  {
   "cell_type": "markdown",
   "id": "b016227f",
   "metadata": {},
   "source": [
    "#### 1. Why are functions advantageous to have in your programs?\n"
   ]
  },
  {
   "cell_type": "markdown",
   "id": "7e331a35",
   "metadata": {},
   "source": [
    "Ans:\n",
    "\n",
    "    Advanges of the functions in programs are as follows:\n",
    "    \n",
    "    1. If we need code again then by using function there is no need to write code again and again.\n",
    "    2. Readability of the program will increase and if modification is required then it will be easy.\n",
    "    3. Chances of errors can be reduced.\n",
    "    "
   ]
  },
  {
   "cell_type": "markdown",
   "id": "a22cafcd",
   "metadata": {},
   "source": [
    "#### 2. When does the code in a function run: when it's specified or when it's called?"
   ]
  },
  {
   "cell_type": "markdown",
   "id": "eb9632a1",
   "metadata": {},
   "source": [
    "Ans:\n",
    "    \n",
    "    The function will run when it is called."
   ]
  },
  {
   "cell_type": "markdown",
   "id": "2a842124",
   "metadata": {},
   "source": [
    "#### 3. What statement creates a function? "
   ]
  },
  {
   "cell_type": "markdown",
   "id": "1b064ab8",
   "metadata": {},
   "source": [
    "Ans:\n",
    "    \n",
    "    Statement which creates a function is def:"
   ]
  },
  {
   "cell_type": "code",
   "execution_count": 1,
   "id": "5a91a254",
   "metadata": {},
   "outputs": [],
   "source": [
    "## Example for Question 2 and 3\n",
    "\n",
    "def addition_function(x, y): ## Defining a statement\n",
    "    sum = x + y\n",
    "    print('Sum :', sum)\n"
   ]
  },
  {
   "cell_type": "code",
   "execution_count": 2,
   "id": "ca0cddc3",
   "metadata": {},
   "outputs": [
    {
     "name": "stdout",
     "output_type": "stream",
     "text": [
      "Sum : 13\n"
     ]
    }
   ],
   "source": [
    "## Calling function\n",
    "addition_function(5,8)"
   ]
  },
  {
   "cell_type": "markdown",
   "id": "6ff15dcb",
   "metadata": {},
   "source": [
    "#### 4. What is the difference between a function and a function call?"
   ]
  },
  {
   "cell_type": "markdown",
   "id": "77e719b4",
   "metadata": {},
   "source": [
    "Ans:\n",
    "    \n",
    "    Function: Function is a bunch of codes which is used to perform specific task.\n",
    "        \n",
    "    Function Call: When we required to perform set of codes repeatedly, defined function will be called.\n",
    "    \n",
    "    "
   ]
  },
  {
   "cell_type": "code",
   "execution_count": 3,
   "id": "4e27e766",
   "metadata": {},
   "outputs": [],
   "source": [
    "def addition_function(x, y): ## Defining a Function\n",
    "    sum = x + y\n",
    "    print('Sum :', sum)"
   ]
  },
  {
   "cell_type": "code",
   "execution_count": 4,
   "id": "00e69842",
   "metadata": {},
   "outputs": [
    {
     "name": "stdout",
     "output_type": "stream",
     "text": [
      "Sum : 53\n"
     ]
    }
   ],
   "source": [
    "addition_function(15,38) ## Function Call"
   ]
  },
  {
   "cell_type": "markdown",
   "id": "cd4fc2fe",
   "metadata": {},
   "source": [
    "#### 5. How many global scopes are there in a Python program? How many local scopes?"
   ]
  },
  {
   "cell_type": "markdown",
   "id": "72bda813",
   "metadata": {},
   "source": [
    "Ans:\n",
    "    In Python program there is only one global scope. It is created at the starting of the program.\n",
    "    \n",
    "    The variables that are created inside the function can be considered as local scope which can be used at the time of the execution of that function only.\n",
    "    \n",
    "    "
   ]
  },
  {
   "cell_type": "code",
   "execution_count": 5,
   "id": "ff515cd6",
   "metadata": {},
   "outputs": [
    {
     "name": "stdout",
     "output_type": "stream",
     "text": [
      "Mittal Shah\n"
     ]
    }
   ],
   "source": [
    "# Global Scope\n",
    "name = \"Mittal Shah\" # Global Scope\n",
    "\n",
    "def function(): # Defining Function\n",
    "    print(name)\n",
    "    \n",
    "function() # function call"
   ]
  },
  {
   "cell_type": "code",
   "execution_count": 6,
   "id": "fa3fc761",
   "metadata": {},
   "outputs": [
    {
     "name": "stdout",
     "output_type": "stream",
     "text": [
      "Mittal Shah\n"
     ]
    }
   ],
   "source": [
    "# Local Scope\n",
    "\n",
    "def function(): # Defining Function\n",
    "    name = \"Mittal Shah\" # Local Scope\n",
    "    print(name)\n",
    "    \n",
    "function() # function call"
   ]
  },
  {
   "cell_type": "markdown",
   "id": "b35e3cc0",
   "metadata": {},
   "source": [
    "#### 6. What happens to variables in a local scope when the function call returns?"
   ]
  },
  {
   "cell_type": "markdown",
   "id": "23160590",
   "metadata": {},
   "source": [
    "Ans:\n",
    "    \n",
    "    Values that stored in the variables of local scope will continue to have same values after the function call returns.\n",
    "    "
   ]
  },
  {
   "cell_type": "code",
   "execution_count": 7,
   "id": "b0a6a1cc",
   "metadata": {},
   "outputs": [
    {
     "data": {
      "text/plain": [
       "'Mittal Shah'"
      ]
     },
     "execution_count": 7,
     "metadata": {},
     "output_type": "execute_result"
    }
   ],
   "source": [
    "def function(): # Defining Function\n",
    "    name = \"Mittal Shah\" # Local Scope\n",
    "    print(name)\n",
    "    \n",
    "name"
   ]
  },
  {
   "cell_type": "markdown",
   "id": "377780dd",
   "metadata": {},
   "source": [
    "#### 7. What is the concept of a return value? Is it possible to have a return value in an expression?"
   ]
  },
  {
   "cell_type": "markdown",
   "id": "57d77137",
   "metadata": {},
   "source": [
    "Ans:\n",
    "\n",
    "Return is a keyword available for functions only and cannot be used outside a function. The return keyword is used to end the execution of function and return the value to the function caller.\n",
    "\n",
    "\n",
    "In a function, return statement returns the value of variable with its data type or expression value it is returning. If return statement is without an expression or a variable then function call returns None type.\n",
    "\n",
    "The return cannot be used inside an expression but it can return the value of expression.\n"
   ]
  },
  {
   "cell_type": "markdown",
   "id": "d6bfcafe",
   "metadata": {},
   "source": [
    "#### 8. If a function does not have a return statement, what is the return value of a call to that function?"
   ]
  },
  {
   "cell_type": "markdown",
   "id": "92c35ea5",
   "metadata": {},
   "source": [
    "Ans:\n",
    "    \n",
    "    If a function does not have a return statement, the return value of a call to that function is none data type."
   ]
  },
  {
   "cell_type": "markdown",
   "id": "f3f45dd4",
   "metadata": {},
   "source": [
    "#### 9. How do you make a function variable refer to the global variable?"
   ]
  },
  {
   "cell_type": "markdown",
   "id": "b96e1e0d",
   "metadata": {},
   "source": [
    "Ans:\n",
    "    \n",
    "    To make a function variable refer to the global variable, we can use global keyword to declare variable."
   ]
  },
  {
   "cell_type": "markdown",
   "id": "b637b167",
   "metadata": {},
   "source": [
    "#### 10. What is the data type of None?"
   ]
  },
  {
   "cell_type": "markdown",
   "id": "ce417594",
   "metadata": {},
   "source": [
    "Ans:\n",
    "    \n",
    "    The data type of none is none type."
   ]
  },
  {
   "cell_type": "markdown",
   "id": "9a8c5adb",
   "metadata": {},
   "source": [
    "#### 11. What does the sentence import areallyourpetsnamederic do?"
   ]
  },
  {
   "cell_type": "markdown",
   "id": "9a362bb5",
   "metadata": {},
   "source": [
    "Ans:\n",
    "    \n",
    "    The import sentence imports a module named areallyourpetsnamederic but it will give an error as there is no such standard module present."
   ]
  },
  {
   "cell_type": "markdown",
   "id": "4d2941e5",
   "metadata": {},
   "source": [
    "#### 12. If you had a bacon() feature in a spam module, what would you call it after importing spam?"
   ]
  },
  {
   "cell_type": "markdown",
   "id": "39b8ed89",
   "metadata": {},
   "source": [
    "Ans:\n",
    "    \n",
    "    If I will have a bacon() feature in a spam module, that will be called by spam.bacon() after importing spam."
   ]
  },
  {
   "cell_type": "markdown",
   "id": "d3d74c43",
   "metadata": {},
   "source": [
    "#### 13. What can you do to save a programme from crashing if it encounters an error?"
   ]
  },
  {
   "cell_type": "markdown",
   "id": "5cdd4549",
   "metadata": {},
   "source": [
    "Ans:\n",
    "    \n",
    "    If programme encounters an error, to save a programme from crashing  we can use exception handeling. we can use try - except."
   ]
  },
  {
   "cell_type": "code",
   "execution_count": 8,
   "id": "6f32405f",
   "metadata": {},
   "outputs": [
    {
     "name": "stdout",
     "output_type": "stream",
     "text": [
      "25\n"
     ]
    }
   ],
   "source": [
    "# Example\n",
    "\n",
    "a = 25\n",
    "\n",
    "try:\n",
    "    print(a)\n",
    "except:\n",
    "    print('Except')"
   ]
  },
  {
   "cell_type": "code",
   "execution_count": 9,
   "id": "b48a2070",
   "metadata": {},
   "outputs": [
    {
     "name": "stdout",
     "output_type": "stream",
     "text": [
      "Except\n"
     ]
    }
   ],
   "source": [
    "try:\n",
    "    print(m)\n",
    "except:\n",
    "    print('Except')"
   ]
  },
  {
   "cell_type": "markdown",
   "id": "dc222d71",
   "metadata": {},
   "source": [
    "#### 14. What is the purpose of the try clause? What is the purpose of the except clause?"
   ]
  },
  {
   "cell_type": "markdown",
   "id": "7cfb24e6",
   "metadata": {},
   "source": [
    "Ans:\n",
    "\n",
    "The try clause will be used to test a code for error and the except clause will be used to handle error."
   ]
  },
  {
   "cell_type": "code",
   "execution_count": 10,
   "id": "35874336",
   "metadata": {},
   "outputs": [
    {
     "name": "stdout",
     "output_type": "stream",
     "text": [
      "Except\n"
     ]
    }
   ],
   "source": [
    "# Example\n",
    "\n",
    "try: # To check error\n",
    "    print(m)\n",
    "except: # To handle error\n",
    "    print('Except')"
   ]
  },
  {
   "cell_type": "code",
   "execution_count": null,
   "id": "08681f00",
   "metadata": {},
   "outputs": [],
   "source": []
  }
 ],
 "metadata": {
  "kernelspec": {
   "display_name": "Python 3 (ipykernel)",
   "language": "python",
   "name": "python3"
  },
  "language_info": {
   "codemirror_mode": {
    "name": "ipython",
    "version": 3
   },
   "file_extension": ".py",
   "mimetype": "text/x-python",
   "name": "python",
   "nbconvert_exporter": "python",
   "pygments_lexer": "ipython3",
   "version": "3.9.12"
  }
 },
 "nbformat": 4,
 "nbformat_minor": 5
}
