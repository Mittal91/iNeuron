{
 "cells": [
  {
   "cell_type": "markdown",
   "id": "d0791a7b",
   "metadata": {},
   "source": [
    "# Assignment_4"
   ]
  },
  {
   "cell_type": "markdown",
   "id": "9bed23a2",
   "metadata": {},
   "source": [
    "Solved by Mittal Shah"
   ]
  },
  {
   "cell_type": "markdown",
   "id": "4cf39ec2",
   "metadata": {},
   "source": [
    "#### 1. What exactly is []?"
   ]
  },
  {
   "cell_type": "markdown",
   "id": "eb06b032",
   "metadata": {},
   "source": [
    "Ans:\n",
    "    \n",
    "    [] represents empty list which do not have any elements."
   ]
  },
  {
   "cell_type": "markdown",
   "id": "12efda56",
   "metadata": {},
   "source": [
    "#### 2. In a list of values stored in a variable called spam, how would you assign the value 'hello' as the third value? (Assume [2, 4, 6, 8, 10] are in spam.)"
   ]
  },
  {
   "cell_type": "code",
   "execution_count": 1,
   "id": "7fb6e509",
   "metadata": {},
   "outputs": [
    {
     "name": "stdout",
     "output_type": "stream",
     "text": [
      "[2, 4, 'hello', 8, 10]\n"
     ]
    }
   ],
   "source": [
    "spam = [2, 4, 6, 8, 10]\n",
    "spam[2] = 'hello'\n",
    "print(spam)"
   ]
  },
  {
   "cell_type": "markdown",
   "id": "238d7988",
   "metadata": {},
   "source": [
    "#### Let's pretend the spam includes the list ['a', 'b', 'c', 'd'] for the next three queries."
   ]
  },
  {
   "cell_type": "code",
   "execution_count": 2,
   "id": "4082ad1a",
   "metadata": {},
   "outputs": [],
   "source": [
    "spam = ['a', 'b', 'c', 'd']"
   ]
  },
  {
   "cell_type": "markdown",
   "id": "996a51da",
   "metadata": {},
   "source": [
    "#### 3. What is the value of spam[int(int('3' * 2) / 11)]?"
   ]
  },
  {
   "cell_type": "markdown",
   "id": "0c4c4cc6",
   "metadata": {},
   "source": [
    "Ans:\n",
    "    \n",
    "    int(int('3' * 2) / 11) evaluates to 3, so the value of spam[3] will be 'd'.\n",
    "    "
   ]
  },
  {
   "cell_type": "code",
   "execution_count": 3,
   "id": "f692fd2c",
   "metadata": {},
   "outputs": [
    {
     "data": {
      "text/plain": [
       "'d'"
      ]
     },
     "execution_count": 3,
     "metadata": {},
     "output_type": "execute_result"
    }
   ],
   "source": [
    "spam[int(int('3' * 2) / 11)]"
   ]
  },
  {
   "cell_type": "markdown",
   "id": "e578372c",
   "metadata": {},
   "source": [
    "#### 4. What is the value of spam[-1]?"
   ]
  },
  {
   "cell_type": "markdown",
   "id": "adc933ed",
   "metadata": {},
   "source": [
    "Ans:\n",
    "    \n",
    "    The value of spam[-1] will be 'd'. Here negative indexing is there which starts from -1 which is the last element of the list."
   ]
  },
  {
   "cell_type": "code",
   "execution_count": 4,
   "id": "24b0c041",
   "metadata": {},
   "outputs": [
    {
     "data": {
      "text/plain": [
       "'d'"
      ]
     },
     "execution_count": 4,
     "metadata": {},
     "output_type": "execute_result"
    }
   ],
   "source": [
    "spam[-1]"
   ]
  },
  {
   "cell_type": "markdown",
   "id": "633f033d",
   "metadata": {},
   "source": [
    "#### 5. What is the value of spam[:2]?"
   ]
  },
  {
   "cell_type": "markdown",
   "id": "0e4b2dd5",
   "metadata": {},
   "source": [
    "Ans:\n",
    "    \n",
    "    The value of spam[:2] will be ['a', 'b']. spam[:2] will select elements on the 0th and 1st index. This operation is called slicing operation."
   ]
  },
  {
   "cell_type": "code",
   "execution_count": 5,
   "id": "17a233be",
   "metadata": {},
   "outputs": [
    {
     "data": {
      "text/plain": [
       "['a', 'b']"
      ]
     },
     "execution_count": 5,
     "metadata": {},
     "output_type": "execute_result"
    }
   ],
   "source": [
    "spam[:2]"
   ]
  },
  {
   "cell_type": "markdown",
   "id": "130af61d",
   "metadata": {},
   "source": [
    "#### Let's pretend bacon has the list [3.14, 'cat,' 11, 'cat,' True] for the next three questions."
   ]
  },
  {
   "cell_type": "code",
   "execution_count": 14,
   "id": "e1599de5",
   "metadata": {},
   "outputs": [],
   "source": [
    "bacon = [3.14, 'cat', 11, 'cat', True]"
   ]
  },
  {
   "cell_type": "markdown",
   "id": "21915b98",
   "metadata": {},
   "source": [
    "#### 6. What is the value of bacon.index('cat')?"
   ]
  },
  {
   "cell_type": "markdown",
   "id": "139c07f9",
   "metadata": {},
   "source": [
    "Ans: \n",
    "    \n",
    "    bacon.index('cat') will give 1. index() function is used to display index of first occurance of the specified element of the list(i.e. here 'cat') "
   ]
  },
  {
   "cell_type": "code",
   "execution_count": 12,
   "id": "f957cf4d",
   "metadata": {},
   "outputs": [
    {
     "data": {
      "text/plain": [
       "1"
      ]
     },
     "execution_count": 12,
     "metadata": {},
     "output_type": "execute_result"
    }
   ],
   "source": [
    "bacon.index('cat')"
   ]
  },
  {
   "cell_type": "markdown",
   "id": "e82e4782",
   "metadata": {},
   "source": [
    "#### 7. How does bacon.append(99) change the look of the list value in bacon?"
   ]
  },
  {
   "cell_type": "markdown",
   "id": "146b2bef",
   "metadata": {},
   "source": [
    "Ans:\n",
    "    \n",
    "    bacon.append(99) will add 99 in the list bacon as last element. after performing this operation length of the list will get changed.\n",
    "\n"
   ]
  },
  {
   "cell_type": "code",
   "execution_count": 15,
   "id": "4c5d5543",
   "metadata": {},
   "outputs": [
    {
     "name": "stdout",
     "output_type": "stream",
     "text": [
      "[3.14, 'cat', 11, 'cat', True]\n",
      "Length of bacon: 5\n",
      "[3.14, 'cat', 11, 'cat', True, 99]\n",
      "Length of bacon after append: 6\n"
     ]
    }
   ],
   "source": [
    "print(bacon)\n",
    "print('Length of bacon:', len(bacon))\n",
    "bacon.append(99)\n",
    "print(bacon) # we can see the changes in the list bacon after append operation here\n",
    "print('Length of bacon after append:', len(bacon))"
   ]
  },
  {
   "cell_type": "markdown",
   "id": "6b76ba38",
   "metadata": {},
   "source": [
    "#### 8. How does bacon.remove('cat') change the look of the list in bacon?"
   ]
  },
  {
   "cell_type": "markdown",
   "id": "80323ebf",
   "metadata": {},
   "source": [
    "Ans:\n",
    "    \n",
    "     bacon.remove('cat') will remove first occurance of the specified element from the list. Here 'cat' on index 1 will be removed and we get [3.14, 11, 'cat', True, 99]."
   ]
  },
  {
   "cell_type": "code",
   "execution_count": 16,
   "id": "7a41ef0f",
   "metadata": {},
   "outputs": [],
   "source": [
    "bacon.remove('cat')"
   ]
  },
  {
   "cell_type": "code",
   "execution_count": 17,
   "id": "8c46798c",
   "metadata": {},
   "outputs": [
    {
     "name": "stdout",
     "output_type": "stream",
     "text": [
      "[3.14, 11, 'cat', True, 99]\n"
     ]
    }
   ],
   "source": [
    "print(bacon)"
   ]
  },
  {
   "cell_type": "markdown",
   "id": "472b7536",
   "metadata": {},
   "source": [
    "#### 9. What are the list concatenation and list replication operators?"
   ]
  },
  {
   "cell_type": "markdown",
   "id": "6a285d63",
   "metadata": {},
   "source": [
    "Ans:\n",
    "    \n",
    "    List concatenation operator: +\n",
    "        \n",
    "    List replication operator: *"
   ]
  },
  {
   "cell_type": "code",
   "execution_count": 18,
   "id": "1364f468",
   "metadata": {},
   "outputs": [
    {
     "name": "stdout",
     "output_type": "stream",
     "text": [
      "List concatenation operation :  ['Mittal', 28, 91, 'Joshi', 'Vaibhav', 23, 86, 'Shah']\n",
      "List replication operation :  ['Mittal', 28, 91, 'Joshi', 'Mittal', 28, 91, 'Joshi']\n"
     ]
    }
   ],
   "source": [
    "l1 = ['Mittal', 28, 91, 'Joshi']\n",
    "l2 = ['Vaibhav', 23, 86, 'Shah']\n",
    "print(\"List concatenation operation : \", l1 + l2)\n",
    "print(\"List replication operation : \", l1 * 2)"
   ]
  },
  {
   "cell_type": "markdown",
   "id": "c4aa153a",
   "metadata": {},
   "source": [
    "#### 10. What is difference between the list methods append() and insert()?"
   ]
  },
  {
   "cell_type": "markdown",
   "id": "5bfcff96",
   "metadata": {},
   "source": [
    "Ans:\n",
    "    \n",
    "    append(): an element can be added at the end of the list by using append('element')\n",
    "        \n",
    "    insert(): an element can be added at the specific index by using insert(index number, 'element')"
   ]
  },
  {
   "cell_type": "code",
   "execution_count": 21,
   "id": "b9e89aee",
   "metadata": {},
   "outputs": [
    {
     "name": "stdout",
     "output_type": "stream",
     "text": [
      "l1:  ['Mittal', 28, 91, 'Joshi']\n",
      "l1 after append:  ['Mittal', 28, 91, 'Joshi', 'Hello']\n",
      "l2:  ['Vaibhav', 23, 86, 'Shah']\n",
      "l2 after insert:  ['Hi', 'Vaibhav', 23, 86, 'Shah']\n"
     ]
    }
   ],
   "source": [
    "## APPEND Operation\n",
    "l1 = ['Mittal', 28, 91, 'Joshi']\n",
    "print(\"l1: \",l1)\n",
    "l1.append('Hello') \n",
    "print(\"l1 after append: \",l1)\n",
    "\n",
    "## INSERT Operation\n",
    "l2 = ['Vaibhav', 23, 86, 'Shah']\n",
    "print(\"l2: \",l2)\n",
    "l2.insert(0, 'Hi') ## 'Hi will be added at the 0th index'\n",
    "print(\"l2 after insert: \",l2)"
   ]
  },
  {
   "cell_type": "markdown",
   "id": "6cfd0996",
   "metadata": {},
   "source": [
    "#### 11. What are the two methods for removing items from a list?"
   ]
  },
  {
   "cell_type": "markdown",
   "id": "d48b1532",
   "metadata": {},
   "source": [
    "Ans:\n",
    "    \n",
    "    Keyword del and remove() are the two methods for removing items from a list."
   ]
  },
  {
   "cell_type": "code",
   "execution_count": 22,
   "id": "e10514a3",
   "metadata": {},
   "outputs": [
    {
     "name": "stdout",
     "output_type": "stream",
     "text": [
      "['Mittal', 28, 91, 'Joshi', 'Hello']\n",
      "l1 after del:  ['Mittal', 28, 91, 'Joshi']\n"
     ]
    }
   ],
   "source": [
    "## Use of del\n",
    "\n",
    "print(l1)\n",
    "del l1[4]\n",
    "print('l1 after del: ',l1)"
   ]
  },
  {
   "cell_type": "code",
   "execution_count": 23,
   "id": "da5ec2c0",
   "metadata": {},
   "outputs": [
    {
     "name": "stdout",
     "output_type": "stream",
     "text": [
      "['Hi', 'Vaibhav', 23, 86, 'Shah']\n",
      "l2 after remove:  ['Vaibhav', 23, 86, 'Shah']\n"
     ]
    }
   ],
   "source": [
    "## Useof remove()\n",
    "\n",
    "print(l2)\n",
    "l2.remove('Hi')\n",
    "print('l2 after remove: ',l2)"
   ]
  },
  {
   "cell_type": "markdown",
   "id": "f30c4216",
   "metadata": {},
   "source": [
    "#### 12. Describe how list values and string values are identical."
   ]
  },
  {
   "cell_type": "markdown",
   "id": "4f2227e5",
   "metadata": {},
   "source": [
    "Ans:\n",
    "    \n",
    "    1. cancatenation and replication can be used for list and string\n",
    "    2. len() function can be used for list and string\n",
    "    3. list and string have index\n",
    "    4. Slicing operation can be performed on list and string"
   ]
  },
  {
   "cell_type": "markdown",
   "id": "0677674c",
   "metadata": {},
   "source": [
    "#### 13. What's the difference between tuples and lists?"
   ]
  },
  {
   "cell_type": "markdown",
   "id": "0c5aa629",
   "metadata": {},
   "source": [
    "Ans:\n",
    "    \n",
    "    Lists are mutable and Tuples are immutable.\n",
    "    Lists can be represented by the square brackets [] and Tuples can be represented by parantheses (). \n",
    "    Elements of the list can be added, removed or changes whereas elements of the tuples can not be added, removed or replced"
   ]
  },
  {
   "cell_type": "markdown",
   "id": "e02b43e1",
   "metadata": {},
   "source": [
    "#### 14. How do you type a tuple value that only contains the integer 42?"
   ]
  },
  {
   "cell_type": "code",
   "execution_count": 24,
   "id": "d8c4b6c5",
   "metadata": {},
   "outputs": [
    {
     "name": "stdout",
     "output_type": "stream",
     "text": [
      "Tuple t1:  (42,)\n"
     ]
    }
   ],
   "source": [
    "t1 = (42,)\n",
    "print('Tuple t1: ', t1)"
   ]
  },
  {
   "cell_type": "markdown",
   "id": "b9964d45",
   "metadata": {},
   "source": [
    "#### 15. How do you get a list value's tuple form? How do you get a tuple value's list form?"
   ]
  },
  {
   "cell_type": "markdown",
   "id": "661b8507",
   "metadata": {},
   "source": [
    "Ans:\n",
    "    \n",
    "    List to tuple : tuple() will be used.\n",
    "    tuple to list : list() will be used.\n",
    "        \n",
    "This is called type casting."
   ]
  },
  {
   "cell_type": "markdown",
   "id": "66db5ea4",
   "metadata": {},
   "source": [
    "#### 16. Variables that \"contain\" list values are not necessarily lists themselves. Instead, what do they contain?"
   ]
  },
  {
   "cell_type": "markdown",
   "id": "035bc704",
   "metadata": {},
   "source": [
    "Ans:\n",
    "    \n",
    "    Variables that contain list values are not necessarily lists themselves. Instead, they contain references to list values."
   ]
  },
  {
   "cell_type": "markdown",
   "id": "e35621bd",
   "metadata": {},
   "source": [
    "#### 17. How do you distinguish between copy.copy() and copy.deepcopy()?"
   ]
  },
  {
   "cell_type": "markdown",
   "id": "1e14b186",
   "metadata": {},
   "source": [
    "Ans:\n",
    "    \n",
    "    copy.copy(): It creates shallow copy of the list\n",
    "    \n",
    "    copy.deepcopy() : It will duplicate any lists inside the list. (Creates new list)\n",
    "    "
   ]
  },
  {
   "cell_type": "code",
   "execution_count": null,
   "id": "fea7315c",
   "metadata": {},
   "outputs": [],
   "source": []
  }
 ],
 "metadata": {
  "kernelspec": {
   "display_name": "Python 3 (ipykernel)",
   "language": "python",
   "name": "python3"
  },
  "language_info": {
   "codemirror_mode": {
    "name": "ipython",
    "version": 3
   },
   "file_extension": ".py",
   "mimetype": "text/x-python",
   "name": "python",
   "nbconvert_exporter": "python",
   "pygments_lexer": "ipython3",
   "version": "3.9.12"
  }
 },
 "nbformat": 4,
 "nbformat_minor": 5
}
